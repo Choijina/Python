{
  "nbformat": 4,
  "nbformat_minor": 0,
  "metadata": {
    "colab": {
      "provenance": [],
      "authorship_tag": "ABX9TyNzTZAXmcW0Rfia4DtySpfb",
      "include_colab_link": true
    },
    "kernelspec": {
      "name": "python3",
      "display_name": "Python 3"
    },
    "language_info": {
      "name": "python"
    }
  },
  "cells": [
    {
      "cell_type": "markdown",
      "metadata": {
        "id": "view-in-github",
        "colab_type": "text"
      },
      "source": [
        "<a href=\"https://colab.research.google.com/github/Choijina/Python/blob/main/%EC%99%80%EC%9D%B8%EC%98%88%EC%B8%A1.ipynb\" target=\"_parent\"><img src=\"https://colab.research.google.com/assets/colab-badge.svg\" alt=\"Open In Colab\"/></a>"
      ]
    },
    {
      "cell_type": "code",
      "source": [
        "import numpy as np\n",
        "import pandas as pd\n",
        "%matplotlib inline\n",
        "import matplotlib.pyplot as plt\n",
        "import seaborn as sns\n",
        "\n",
        "from sklearn.preprocessing import LabelEncoder\n",
        "from sklearn.preprocessing import StandardScaler\n",
        "from sklearn.preprocessing import MinMaxScaler\n",
        "from sklearn.utils import resample\n",
        "from sklearn.model_selection import train_test_split\n",
        "from sklearn.ensemble import RandomForestClassifier\n",
        "from sklearn.model_selection import GridSearchCV\n",
        "from sklearn.metrics import precision_score, recall_score, f1_score, accuracy_score\n",
        "import joblib\n",
        "\n",
        "import warnings\n",
        "warnings.filterwarnings(action='ignore')\n",
        "\n",
        "#train, test 자료 불러오기\n",
        "train = pd.read_csv(\"./train.csv\")\n",
        "train= train.drop('index', axis=1) #필요 없는 값 삭제\n",
        "train= train.drop('quality', axis=1) #필요 없는 값 삭제\n",
        "\n",
        "test = pd.read_csv(\"./test.csv\")\n",
        "test= test.drop('index', axis=1) #필요 없는 값 삭제"
      ],
      "metadata": {
        "id": "RK7iKt_zX-pN"
      },
      "execution_count": null,
      "outputs": []
    },
    {
      "cell_type": "code",
      "source": [
        "#type을 수치형으로 변환하기 위해서 각각 0,1로 변환\n",
        "enc = LabelEncoder()\n",
        "enc.fit(train['type'])\n",
        "train['type'] = enc.transform(train['type'])\n",
        "test['type'] = enc.transform(test['type'])"
      ],
      "metadata": {
        "id": "OKbRMCrFdwZi"
      },
      "execution_count": null,
      "outputs": []
    },
    {
      "cell_type": "code",
      "source": [
        "#결측치 확인\n",
        "def check_missing_col(train):\n",
        "  missing_col = []\n",
        "  counted_missing_col = 0\n",
        "  for i, col in enumerate(train.columns):\n",
        "      missing_values = sum(train[col].isna())\n",
        "      is_missing = True if missing_values >= 1 else False\n",
        "      if is_missing:\n",
        "          counted_missing_col += 1\n",
        "          print(f'결측치가 있는 컬럼은: {col}입니다.')\n",
        "          print(f'해당 컬럼에 총 {missing_values}개의 결측치가 있습니다.')\n",
        "          missing_col.append([col, train[col].dtype])\n",
        "  if counted_missing_col == 0:\n",
        "      print('데이터에 결측치가 존재하지 않습니다.')\n",
        "  return missing_col\n",
        "print('-train')\n",
        "missing_col = check_missing_col(train)\n",
        "print('\\n-test')\n",
        "missing_col = check_missing_col(test)"
      ],
      "metadata": {
        "id": "zPRE2s9YiwwB",
        "colab": {
          "base_uri": "https://localhost:8080/"
        },
        "outputId": "67b27b18-8422-4f0d-e306-584369b2603d"
      },
      "execution_count": null,
      "outputs": [
        {
          "output_type": "stream",
          "name": "stdout",
          "text": [
            "-train\n",
            "데이터에 결측치가 존재하지 않습니다.\n",
            "\n",
            "-test\n",
            "데이터에 결측치가 존재하지 않습니다.\n"
          ]
        }
      ]
    },
    {
      "cell_type": "code",
      "source": [
        "#train의 변수 간 상관관계(상관계수) 확인\n",
        "plt.figure(figsize=(11,11))\n",
        "sns.heatmap(data = train.corr(), annot=True, cmap='Greens')"
      ],
      "metadata": {
        "id": "tss4WCBh_j3O"
      },
      "execution_count": null,
      "outputs": []
    },
    {
      "cell_type": "markdown",
      "source": [
        "**통계량 시각화**"
      ],
      "metadata": {
        "id": "YLn9hiruurlK"
      }
    },
    {
      "cell_type": "code",
      "source": [
        "plt.figure(figsize=(12,12))\n",
        "for i in range(0,12):\n",
        "    plt.subplot(3,4,i+1)\n",
        "    sns.distplot(train.iloc[:,i])\n",
        "plt.tight_layout()\n",
        "plt.show()"
      ],
      "metadata": {
        "id": "dijEgPJxJNBr"
      },
      "execution_count": null,
      "outputs": []
    },
    {
      "cell_type": "code",
      "source": [
        "#mean\n",
        "train.mean().plot.bar()\n",
        "plt.show()"
      ],
      "metadata": {
        "id": "5iLZ7bdsZTXp"
      },
      "execution_count": null,
      "outputs": []
    },
    {
      "cell_type": "code",
      "source": [
        "#min\n",
        "train.min().plot.bar()\n",
        "plt.show()"
      ],
      "metadata": {
        "id": "BYrjv8IdbcWo"
      },
      "execution_count": null,
      "outputs": []
    },
    {
      "cell_type": "code",
      "source": [
        "#max\n",
        "train.max().plot.bar()\n",
        "plt.show()"
      ],
      "metadata": {
        "id": "LjEkiLtWqZCz"
      },
      "execution_count": null,
      "outputs": []
    },
    {
      "cell_type": "code",
      "source": [
        "#바이올린 플롯(Violin plot)\n",
        "fig, axes = plt.subplots(4, 3, figsize=(25, 15))\n",
        "\n",
        "fig.suptitle('feature distributions per type', fontsize= 40)\n",
        "for ax, col in zip(axes.flat, train.columns[0:]):\n",
        "    sns.violinplot(x= 'type' , y= col, ax=ax, data=train)\n",
        "    ax.set_title(col, fontsize=20)\n",
        "plt.tight_layout()\n",
        "plt.show()"
      ],
      "metadata": {
        "id": "WaElCP4jTMJn"
      },
      "execution_count": null,
      "outputs": []
    },
    {
      "cell_type": "markdown",
      "source": [
        "**변수들 간 type 분포 / Scatterplot으로 시각화**"
      ],
      "metadata": {
        "id": "J_9T-43tu9iv"
      }
    },
    {
      "cell_type": "code",
      "source": [
        "#x='density', y='residual sugar\n",
        "fig, ax = plt.subplots(figsize=(8, 8))\n",
        "sns.scatterplot(x='density', y='residual sugar', hue='type', data=train, ax=ax)\n",
        "ax.set_title('Density & residual sugar scatter plot', fontsize=20)\n",
        "ax.set_xlabel('Density', fontsize=16)\n",
        "ax.set_ylabel('residual sugar', fontsize=16)\n",
        "ax.tick_params(axis='both', which='major', labelsize=14)\n",
        "plt.show()"
      ],
      "metadata": {
        "id": "9C-Mj-SUo1IT"
      },
      "execution_count": null,
      "outputs": []
    },
    {
      "cell_type": "code",
      "source": [
        "#x='total sulfur dioxide', y='residual sugar'\n",
        "fig, ax = plt.subplots(figsize=(8, 8))\n",
        "sns.scatterplot(x='total sulfur dioxide', y='residual sugar', hue='type', data=train, ax=ax)\n",
        "ax.set_title('Total sulfur dioxide & residual sugar scatter plot', fontsize=20)\n",
        "ax.set_xlabel('Total sulfur dioxide', fontsize=16)\n",
        "ax.set_ylabel('residual sugar', fontsize=16)\n",
        "ax.tick_params(axis='both', which='major', labelsize=14)\n",
        "plt.show()"
      ],
      "metadata": {
        "id": "qtGvuobHqPsT"
      },
      "execution_count": null,
      "outputs": []
    },
    {
      "cell_type": "code",
      "source": [
        "#x='total sulfur dioxide', y='volatile acidity'\n",
        "fig, ax = plt.subplots(figsize=(8, 8))\n",
        "sns.scatterplot(x='total sulfur dioxide', y='volatile acidity', hue='type', data=train, ax=ax)\n",
        "ax.set_title('Total & volatile acidity scatter plot', fontsize=20)\n",
        "ax.set_xlabel('Total sulfur dioxide', fontsize=16)\n",
        "ax.set_ylabel('volatile acidity', fontsize=16)\n",
        "ax.tick_params(axis='both', which='major', labelsize=14)\n",
        "plt.show()"
      ],
      "metadata": {
        "id": "2qK-bHc0tnK-"
      },
      "execution_count": null,
      "outputs": []
    },
    {
      "cell_type": "code",
      "source": [
        "#x='total sulfur dioxide', y='free sulfur dioxide'\n",
        "fig, ax = plt.subplots(figsize=(8, 8))\n",
        "sns.scatterplot(x='total sulfur dioxide', y='free sulfur dioxide', hue='type', data=train, ax=ax)\n",
        "ax.set_title('Total & Free sulfur dioxide scatter plot', fontsize=20)\n",
        "ax.set_xlabel('Total sulfur dioxide', fontsize=16)\n",
        "ax.set_ylabel('Free sulfur dioxide', fontsize=16)\n",
        "ax.tick_params(axis='both', which='major', labelsize=14)\n",
        "plt.show()"
      ],
      "metadata": {
        "id": "akNuhmY0nUPZ"
      },
      "execution_count": null,
      "outputs": []
    },
    {
      "cell_type": "markdown",
      "source": [
        "**전처리 과정**"
      ],
      "metadata": {
        "id": "z6xjgrawui4P"
      }
    },
    {
      "cell_type": "code",
      "source": [
        "#train 표준화\n",
        "transform_data = train.drop(columns=['type'])\n",
        "scaler = StandardScaler()\n",
        "std_transform_data = scaler.fit_transform(transform_data)\n",
        "train[transform_data.columns] = std_transform_data #train의 해당 열만 대체되고, 'type' 그대로 유지\n",
        "\n",
        "#test 표준화\n",
        "transform_testdata = test.drop(columns=['type'])\n",
        "std_transform_testdata = scaler.transform(transform_testdata)\n",
        "test[transform_testdata.columns] = std_transform_testdata #train의 해당 열만 대체되고, 'type' 그대로 유지"
      ],
      "metadata": {
        "id": "rxnpp8RJj4GZ"
      },
      "execution_count": null,
      "outputs": []
    },
    {
      "cell_type": "code",
      "source": [
        "train.head()"
      ],
      "metadata": {
        "id": "PhShtMpQVB0a"
      },
      "execution_count": null,
      "outputs": []
    },
    {
      "cell_type": "code",
      "source": [
        "red_train = train[train['type'] == 0] #'type'에서 'red'인 값 저장\n",
        "white_train = train[train['type'] == 1] #'type'에서 'white'인 값 저장\n",
        "\n",
        "red_test = test[test['type'] == 0] #'type'에서 'red'인 값 저장\n",
        "white_test = test[test['type'] == 1] #'type'에서 'white'인 값 저장"
      ],
      "metadata": {
        "id": "p1dycCSKU7ml"
      },
      "execution_count": null,
      "outputs": []
    },
    {
      "cell_type": "code",
      "source": [
        "#red의 이상치 값 확인\n",
        "plt.figure(figsize=(30, 30))\n",
        "for col_idx in range(len(red_train.columns)):\n",
        "    plt.subplot(6, 2, col_idx + 1)\n",
        "    plt.boxplot(red_train[red_train.columns[col_idx]], flierprops=dict(markerfacecolor='r', marker='o'))\n",
        "    plt.title(\"Feature: \" + red_train.columns[col_idx], fontsize=25)\n",
        "    plt.tight_layout()\n",
        "\n",
        "plt.show()"
      ],
      "metadata": {
        "id": "2jsjjRpRs0LI"
      },
      "execution_count": null,
      "outputs": []
    },
    {
      "cell_type": "code",
      "source": [
        "#white의 이상치 값 확인\n",
        "plt.figure(figsize=(30, 30))\n",
        "for col_idx in range(len(white_train.columns)):\n",
        "    plt.subplot(6, 2, col_idx + 1)\n",
        "    plt.boxplot(white_train[white_train.columns[col_idx]], flierprops=dict(markerfacecolor='r', marker='o'))\n",
        "    plt.title(\"Feature: \" + white_train.columns[col_idx], fontsize=25)\n",
        "    plt.tight_layout()\n",
        "\n",
        "plt.show()"
      ],
      "metadata": {
        "id": "e5eFwnBJ4yNr"
      },
      "execution_count": null,
      "outputs": []
    },
    {
      "cell_type": "code",
      "source": [
        "#train의 이상치 값 확인\n",
        "plt.figure(figsize=(30, 30))\n",
        "for col_idx in range(len(train.columns)):\n",
        "    plt.subplot(6, 2, col_idx + 1)\n",
        "    plt.boxplot(train[train.columns[col_idx]], flierprops=dict(markerfacecolor='r', marker='o'))\n",
        "    plt.title(\"Feature: \" + train.columns[col_idx], fontsize=25)\n",
        "    plt.tight_layout()\n",
        "\n",
        "plt.show"
      ],
      "metadata": {
        "id": "Fz5zRZX2tPuk"
      },
      "execution_count": null,
      "outputs": []
    },
    {
      "cell_type": "code",
      "source": [
        "#이상치 제거\n",
        "def remove_outlier(input_data):\n",
        "    numeric_columns = input_data.select_dtypes(include=np.number).columns\n",
        "    for column in numeric_columns:\n",
        "        if column != 'type':\n",
        "            q1 = input_data[column].quantile(0.25)\n",
        "            q3 = input_data[column].quantile(0.75)\n",
        "            iqr = q3 - q1\n",
        "            minimum = q1 - (iqr * 1.5)\n",
        "            maximum = q3 + (iqr * 1.5)\n",
        "            input_data = input_data[(minimum < input_data[column]) & (input_data[column] < maximum)]\n",
        "    return input_data\n",
        "\n",
        "red_rmv = remove_outlier(red_train)\n",
        "white_rmv = remove_outlier(white_train)\n",
        "red_test_rmv =remove_outlier(red_test)\n",
        "white_test_rmv =remove_outlier(white_test)"
      ],
      "metadata": {
        "id": "ivMNZk4kA3K0"
      },
      "execution_count": null,
      "outputs": []
    },
    {
      "cell_type": "code",
      "source": [
        "train = pd.concat([red_rmv, white_rmv], axis = 0)\n",
        "test= pd.concat([red_test_rmv, white_test_rmv], axis = 0)"
      ],
      "metadata": {
        "id": "8OS0le5glDO4"
      },
      "execution_count": null,
      "outputs": []
    },
    {
      "cell_type": "markdown",
      "source": [
        "**모델링**"
      ],
      "metadata": {
        "id": "Nv-2QCPq5UfQ"
      }
    },
    {
      "cell_type": "code",
      "source": [
        "#RandomForest - 기본 모델. 하이퍼파라미터 튜닝 진행 X\n",
        "# train 데이터와 test 데이터를 스플릿\n",
        "X = train.drop('type', axis=1)\n",
        "y = train['type']\n",
        "X_train, X_test, y_train, y_test = train_test_split(X, y, test_size=0.2, random_state=42)\n",
        "\n",
        "# 모델 초기화 및 학습\n",
        "model = RandomForestClassifier(random_state=42)\n",
        "model.fit(X_train, y_train)\n",
        "\n",
        "# 데이터 예측\n",
        "y_pred = model.predict(X_test)\n",
        "\n",
        "# 데이터 정확도 평가\n",
        "accuracy = accuracy_score(y_test, y_pred)\n",
        "print(\"데이터 정확도:\", accuracy)\n",
        "\n",
        "# 예측 결과\n",
        "print(\"Precision(정밀도):\", precision_score(y_test, y_pred))\n",
        "print(\"Recall(재현율):\", recall_score(y_test, y_pred))\n",
        "print(\"F1-Score:\", f1_score(y_test, y_pred))"
      ],
      "metadata": {
        "id": "YOBTcJJRqtTu",
        "colab": {
          "base_uri": "https://localhost:8080/"
        },
        "outputId": "0df22256-2cab-4e17-c2a5-950c8ce76c52"
      },
      "execution_count": null,
      "outputs": [
        {
          "output_type": "stream",
          "name": "stdout",
          "text": [
            "데이터 정확도: 0.9976851851851852\n",
            "Precision(정밀도): 0.9984871406959153\n",
            "Recall(재현율): 0.9984871406959153\n",
            "F1-Score: 0.9984871406959153\n"
          ]
        }
      ]
    },
    {
      "cell_type": "code",
      "source": [
        "# 하이퍼파라미터 후보 정의\n",
        "param_grid = {\n",
        "    'n_estimators': [100, 200, 300],\n",
        "    'max_depth': [None, 5, 10],\n",
        "    'min_samples_split': [2, 4, 6],\n",
        "    'min_samples_leaf': [1, 2, 4],\n",
        "}\n",
        "\n",
        "# 그리드 탐색 수행\n",
        "grid_search = GridSearchCV(RandomForestClassifier(), param_grid, cv=5)\n",
        "grid_search.fit(X_train, y_train)\n",
        "\n",
        "# 최적의 하이퍼파라미터 조합\n",
        "print(\"최적의 하이퍼파라미터:\", grid_search.best_params_)"
      ],
      "metadata": {
        "id": "A_d1IJc5q3Pu",
        "colab": {
          "base_uri": "https://localhost:8080/"
        },
        "outputId": "9d422023-7ec6-49b4-8aa5-1e8d76aeb176"
      },
      "execution_count": null,
      "outputs": [
        {
          "output_type": "stream",
          "name": "stdout",
          "text": [
            "최적의 하이퍼파라미터: {'max_depth': None, 'min_samples_leaf': 1, 'min_samples_split': 6, 'n_estimators': 200}\n"
          ]
        }
      ]
    },
    {
      "cell_type": "code",
      "source": [
        "#RandomForest - 하이퍼파라미터 튜닝 진행\n",
        "# train 데이터와 test 데이터를 스플릿\n",
        "X = train.drop('type', axis=1)\n",
        "y = train['type']\n",
        "X_train, X_test, y_train, y_test = train_test_split(X, y, test_size=0.2, random_state=42)\n",
        "\n",
        "# 모델 초기화 및 학습\n",
        "model = RandomForestClassifier(max_depth=None, min_samples_leaf=1, min_samples_split=2, n_estimators=100)\n",
        "model.fit(X_train, y_train)\n",
        "\n",
        "import pickle\n",
        "with open('2021084047_최진아.model', 'wb') as fw:\n",
        "  pickle.dump(model,fw)"
      ],
      "metadata": {
        "id": "7H7TNyv3sjQD"
      },
      "execution_count": null,
      "outputs": []
    },
    {
      "cell_type": "code",
      "source": [
        "from google.colab import files\n",
        "uploaded_files = files.upload()\n",
        "\n",
        "with open('2021084047_최진아.model', 'rb') as f:\n",
        "  loaded_model=pickle.load(f)"
      ],
      "metadata": {
        "id": "glVSHQNEuDNc",
        "colab": {
          "base_uri": "https://localhost:8080/",
          "height": 75
        },
        "outputId": "faf1e2f8-4786-4145-ccec-8d4273304d96"
      },
      "execution_count": null,
      "outputs": [
        {
          "output_type": "display_data",
          "data": {
            "text/plain": [
              "<IPython.core.display.HTML object>"
            ],
            "text/html": [
              "\n",
              "     <input type=\"file\" id=\"files-7e784bb0-9fd9-4aff-89c7-144096099ed2\" name=\"files[]\" multiple disabled\n",
              "        style=\"border:none\" />\n",
              "     <output id=\"result-7e784bb0-9fd9-4aff-89c7-144096099ed2\">\n",
              "      Upload widget is only available when the cell has been executed in the\n",
              "      current browser session. Please rerun this cell to enable.\n",
              "      </output>\n",
              "      <script>// Copyright 2017 Google LLC\n",
              "//\n",
              "// Licensed under the Apache License, Version 2.0 (the \"License\");\n",
              "// you may not use this file except in compliance with the License.\n",
              "// You may obtain a copy of the License at\n",
              "//\n",
              "//      http://www.apache.org/licenses/LICENSE-2.0\n",
              "//\n",
              "// Unless required by applicable law or agreed to in writing, software\n",
              "// distributed under the License is distributed on an \"AS IS\" BASIS,\n",
              "// WITHOUT WARRANTIES OR CONDITIONS OF ANY KIND, either express or implied.\n",
              "// See the License for the specific language governing permissions and\n",
              "// limitations under the License.\n",
              "\n",
              "/**\n",
              " * @fileoverview Helpers for google.colab Python module.\n",
              " */\n",
              "(function(scope) {\n",
              "function span(text, styleAttributes = {}) {\n",
              "  const element = document.createElement('span');\n",
              "  element.textContent = text;\n",
              "  for (const key of Object.keys(styleAttributes)) {\n",
              "    element.style[key] = styleAttributes[key];\n",
              "  }\n",
              "  return element;\n",
              "}\n",
              "\n",
              "// Max number of bytes which will be uploaded at a time.\n",
              "const MAX_PAYLOAD_SIZE = 100 * 1024;\n",
              "\n",
              "function _uploadFiles(inputId, outputId) {\n",
              "  const steps = uploadFilesStep(inputId, outputId);\n",
              "  const outputElement = document.getElementById(outputId);\n",
              "  // Cache steps on the outputElement to make it available for the next call\n",
              "  // to uploadFilesContinue from Python.\n",
              "  outputElement.steps = steps;\n",
              "\n",
              "  return _uploadFilesContinue(outputId);\n",
              "}\n",
              "\n",
              "// This is roughly an async generator (not supported in the browser yet),\n",
              "// where there are multiple asynchronous steps and the Python side is going\n",
              "// to poll for completion of each step.\n",
              "// This uses a Promise to block the python side on completion of each step,\n",
              "// then passes the result of the previous step as the input to the next step.\n",
              "function _uploadFilesContinue(outputId) {\n",
              "  const outputElement = document.getElementById(outputId);\n",
              "  const steps = outputElement.steps;\n",
              "\n",
              "  const next = steps.next(outputElement.lastPromiseValue);\n",
              "  return Promise.resolve(next.value.promise).then((value) => {\n",
              "    // Cache the last promise value to make it available to the next\n",
              "    // step of the generator.\n",
              "    outputElement.lastPromiseValue = value;\n",
              "    return next.value.response;\n",
              "  });\n",
              "}\n",
              "\n",
              "/**\n",
              " * Generator function which is called between each async step of the upload\n",
              " * process.\n",
              " * @param {string} inputId Element ID of the input file picker element.\n",
              " * @param {string} outputId Element ID of the output display.\n",
              " * @return {!Iterable<!Object>} Iterable of next steps.\n",
              " */\n",
              "function* uploadFilesStep(inputId, outputId) {\n",
              "  const inputElement = document.getElementById(inputId);\n",
              "  inputElement.disabled = false;\n",
              "\n",
              "  const outputElement = document.getElementById(outputId);\n",
              "  outputElement.innerHTML = '';\n",
              "\n",
              "  const pickedPromise = new Promise((resolve) => {\n",
              "    inputElement.addEventListener('change', (e) => {\n",
              "      resolve(e.target.files);\n",
              "    });\n",
              "  });\n",
              "\n",
              "  const cancel = document.createElement('button');\n",
              "  inputElement.parentElement.appendChild(cancel);\n",
              "  cancel.textContent = 'Cancel upload';\n",
              "  const cancelPromise = new Promise((resolve) => {\n",
              "    cancel.onclick = () => {\n",
              "      resolve(null);\n",
              "    };\n",
              "  });\n",
              "\n",
              "  // Wait for the user to pick the files.\n",
              "  const files = yield {\n",
              "    promise: Promise.race([pickedPromise, cancelPromise]),\n",
              "    response: {\n",
              "      action: 'starting',\n",
              "    }\n",
              "  };\n",
              "\n",
              "  cancel.remove();\n",
              "\n",
              "  // Disable the input element since further picks are not allowed.\n",
              "  inputElement.disabled = true;\n",
              "\n",
              "  if (!files) {\n",
              "    return {\n",
              "      response: {\n",
              "        action: 'complete',\n",
              "      }\n",
              "    };\n",
              "  }\n",
              "\n",
              "  for (const file of files) {\n",
              "    const li = document.createElement('li');\n",
              "    li.append(span(file.name, {fontWeight: 'bold'}));\n",
              "    li.append(span(\n",
              "        `(${file.type || 'n/a'}) - ${file.size} bytes, ` +\n",
              "        `last modified: ${\n",
              "            file.lastModifiedDate ? file.lastModifiedDate.toLocaleDateString() :\n",
              "                                    'n/a'} - `));\n",
              "    const percent = span('0% done');\n",
              "    li.appendChild(percent);\n",
              "\n",
              "    outputElement.appendChild(li);\n",
              "\n",
              "    const fileDataPromise = new Promise((resolve) => {\n",
              "      const reader = new FileReader();\n",
              "      reader.onload = (e) => {\n",
              "        resolve(e.target.result);\n",
              "      };\n",
              "      reader.readAsArrayBuffer(file);\n",
              "    });\n",
              "    // Wait for the data to be ready.\n",
              "    let fileData = yield {\n",
              "      promise: fileDataPromise,\n",
              "      response: {\n",
              "        action: 'continue',\n",
              "      }\n",
              "    };\n",
              "\n",
              "    // Use a chunked sending to avoid message size limits. See b/62115660.\n",
              "    let position = 0;\n",
              "    do {\n",
              "      const length = Math.min(fileData.byteLength - position, MAX_PAYLOAD_SIZE);\n",
              "      const chunk = new Uint8Array(fileData, position, length);\n",
              "      position += length;\n",
              "\n",
              "      const base64 = btoa(String.fromCharCode.apply(null, chunk));\n",
              "      yield {\n",
              "        response: {\n",
              "          action: 'append',\n",
              "          file: file.name,\n",
              "          data: base64,\n",
              "        },\n",
              "      };\n",
              "\n",
              "      let percentDone = fileData.byteLength === 0 ?\n",
              "          100 :\n",
              "          Math.round((position / fileData.byteLength) * 100);\n",
              "      percent.textContent = `${percentDone}% done`;\n",
              "\n",
              "    } while (position < fileData.byteLength);\n",
              "  }\n",
              "\n",
              "  // All done.\n",
              "  yield {\n",
              "    response: {\n",
              "      action: 'complete',\n",
              "    }\n",
              "  };\n",
              "}\n",
              "\n",
              "scope.google = scope.google || {};\n",
              "scope.google.colab = scope.google.colab || {};\n",
              "scope.google.colab._files = {\n",
              "  _uploadFiles,\n",
              "  _uploadFilesContinue,\n",
              "};\n",
              "})(self);\n",
              "</script> "
            ]
          },
          "metadata": {}
        },
        {
          "output_type": "stream",
          "name": "stdout",
          "text": [
            "Saving 2021084047_최진아.model to 2021084047_최진아 (1).model\n"
          ]
        }
      ]
    },
    {
      "cell_type": "code",
      "source": [
        "#데이터 예측\n",
        "y_pred = loaded_model.predict(X_test)\n",
        "\n",
        "#데이터 정확도 평가\n",
        "accuracy = accuracy_score(y_test, y_pred)\n",
        "print(\"데이터 정확도:\", accuracy)\n",
        "\n",
        "#예측 결과\n",
        "print(\"Precision(정밀도):\", precision_score(y_test, y_pred))\n",
        "print(\"Recall(재현율):\", recall_score(y_test, y_pred))\n",
        "print(\"F1-Score:\", f1_score(y_test, y_pred))"
      ],
      "metadata": {
        "id": "5yFwwlfnuBip",
        "colab": {
          "base_uri": "https://localhost:8080/"
        },
        "outputId": "aa054a61-de7b-4ff6-be6a-50a50e5272c4"
      },
      "execution_count": null,
      "outputs": [
        {
          "output_type": "stream",
          "name": "stdout",
          "text": [
            "데이터 정확도: 0.9976851851851852\n",
            "Precision(정밀도): 0.9969834087481146\n",
            "Recall(재현율): 1.0\n",
            "F1-Score: 0.9984894259818731\n"
          ]
        }
      ]
    }
  ]
}